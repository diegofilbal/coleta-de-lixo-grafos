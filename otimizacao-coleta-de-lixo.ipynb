{
  "nbformat": 4,
  "nbformat_minor": 0,
  "metadata": {
    "colab": {
      "name": "Otimização Coleta de Lixo - Grafos.ipynb",
      "provenance": []
    },
    "kernelspec": {
      "name": "python3",
      "display_name": "Python 3"
    },
    "language_info": {
      "name": "python"
    }
  },
  "cells": [
    {
      "cell_type": "code",
      "source": [
        "# Importa bilbiotecas\n",
        "import numpy as np\n",
        "import math as m\n",
        "import time as t"
      ],
      "metadata": {
        "id": "qk4r3mOl6bHn"
      },
      "execution_count": 2,
      "outputs": []
    },
    {
      "cell_type": "code",
      "source": [
        "# Lê as coordenadas dos vértices\n",
        "def leVertices(arquivo):\n",
        "  coords = []\n",
        "  line = ' '\n",
        "  flag = False;\n",
        "  while line:\n",
        "      line = arquivo.readline();\n",
        "      split = line.split()\n",
        "      if \"EOF\" in line:\n",
        "        flag = False;\n",
        "      if flag:\n",
        "        coord = (int(split[0]), float(split[1]), float(split[2]))\n",
        "        coords.append(coord)\n",
        "      if \"DISPLAY_DATA_SECTION\" in line or \"NODE_COORD_SECTION\" in line:\n",
        "        flag = True;\n",
        "  return coords"
      ],
      "metadata": {
        "id": "J-i9Pcc-ORmI"
      },
      "execution_count": 3,
      "outputs": []
    },
    {
      "cell_type": "code",
      "source": [
        "# Calcula distância euclidiana entre dois pontos\n",
        "def calculaDistancia(a, b):\n",
        "    return float(\"{:.2f}\".format((m.sqrt(((b[1]-a[1])**2) + ((b[2]-a[2])**2)))))"
      ],
      "metadata": {
        "id": "N6AySEYgbTBC"
      },
      "execution_count": 4,
      "outputs": []
    },
    {
      "cell_type": "code",
      "source": [
        "# Métodos de criação e acesso à matriz de distância \n",
        "def montaMatrizDistancia(coords):\n",
        "  size = len(coords)\n",
        "  dist = []\n",
        "  for i in range(size):\n",
        "    row = []\n",
        "    for j in range(i+1):\n",
        "      row.append(calculaDistancia(coords[i], coords[j]))\n",
        "    dist.append(row)\n",
        "  \n",
        "  return dist\n",
        "\n",
        "def acessa(dist, i, j):\n",
        "  if i >= j: return dist[i][j]\n",
        "  else: return dist[j][i]"
      ],
      "metadata": {
        "id": "ReRLxGkiQ2pq"
      },
      "execution_count": 5,
      "outputs": []
    },
    {
      "cell_type": "code",
      "source": [
        "# Define o percurso através da heurística do Vizinho Mais Próximo\n",
        "# Complexidade: O(n²)\n",
        "\n",
        "def maisProximo(dist, i, nao_visitados):\n",
        "  menor = nao_visitados[0]\n",
        "  for j in nao_visitados:\n",
        "    if acessa(dist, i, j) < acessa(dist, i, menor):\n",
        "      menor = j\n",
        "\n",
        "  return menor\n",
        "\n",
        "def vizinhoMasProximo(dist):\n",
        "  visitados = []\n",
        "  visitados.append(0)\n",
        "  nao_visitados = []\n",
        "  for i in range(1, len(dist)):\n",
        "    nao_visitados.append(i)\n",
        "\n",
        "  while nao_visitados:\n",
        "    maisProx = maisProximo(dist, visitados[-1], nao_visitados)\n",
        "    nao_visitados.remove(maisProx)\n",
        "    visitados.append(maisProx)\n",
        "\n",
        "  visitados.append(0)\n",
        "  return visitados"
      ],
      "metadata": {
        "id": "XcA2fc0cqoqk"
      },
      "execution_count": 6,
      "outputs": []
    },
    {
      "cell_type": "code",
      "source": [
        "# Melhora o percurso obtido pelo VMP utilizando o 2-opt\n",
        "def doisOpt(seqVert, rota, dist):\n",
        "  arestas = rota[:]\n",
        "  maiorGanho = 0;\n",
        "  swap = ()\n",
        "  for i in range(len(arestas)):\n",
        "    for j in range(len(arestas)):\n",
        "      if arestas[i][0] != arestas[j][1] and arestas[i][1] != arestas[j][0] and arestas[i][0] != arestas[j][0]:\n",
        "        pesoAB = arestas[i][2]\n",
        "        pesoXY = arestas[j][2]\n",
        "        pesoAX = acessa(dist, arestas[i][0], arestas[j][0])\n",
        "        pesoBY = acessa(dist, arestas[i][1], arestas[j][1])\n",
        "        pesoAtual = pesoAB + pesoXY\n",
        "        pesoAlt = pesoAX + pesoBY\n",
        "        if pesoAtual - pesoAlt > maiorGanho:\n",
        "          maiorGanho = pesoAtual - pesoAlt\n",
        "          swap = (i, j)\n",
        "\n",
        "  if maiorGanho > 0:\n",
        "    i = min(swap[0], swap[1])\n",
        "    j = max(swap[0], swap[1])\n",
        "    indiceIni = 0\n",
        "    indiceFim = 0\n",
        "    for k in range(len(seqVert)):\n",
        "      if(seqVert[k] == arestas[i][1]):\n",
        "        indiceIni = k\n",
        "      if(seqVert[k] == arestas[j][0]):\n",
        "        indiceFim = k\n",
        "\n",
        "    novaSeq = seqVert[:]\n",
        "    for i in range(len(seqVert)):\n",
        "      if(i >= indiceIni and i <= indiceFim):\n",
        "        novaSeq[i] = seqVert[indiceFim-(i-indiceIni)]\n",
        "\n",
        "  return novaSeq"
      ],
      "metadata": {
        "id": "j5mhth0gEaTS"
      },
      "execution_count": 7,
      "outputs": []
    },
    {
      "cell_type": "code",
      "source": [
        "# Monta lista de arestas da uma rota\n",
        "def montaListaArestas(rota, dist):\n",
        "  arestas = []\n",
        "  for i in range(len(rota) - 1):\n",
        "    aresta = []\n",
        "    aresta.append(rota[i])\n",
        "    aresta.append(rota[i+1])\n",
        "    aresta.append(acessa(dist, rota[i], rota[i+1]))\n",
        "    arestas.append(aresta)\n",
        "  \n",
        "  return arestas"
      ],
      "metadata": {
        "id": "sqHIOiZ7n1jt"
      },
      "execution_count": 8,
      "outputs": []
    },
    {
      "cell_type": "code",
      "source": [
        "# Calcula a distância total de uma rota\n",
        "def distanciaTotal(arestas):\n",
        "  distancia = 0.0\n",
        "  for a in arestas:\n",
        "    distancia += a[2]\n",
        "  \n",
        "  return float(\"{:.2f}\".format(distancia))"
      ],
      "metadata": {
        "id": "V1TeV_vSr1qw"
      },
      "execution_count": 9,
      "outputs": []
    },
    {
      "cell_type": "code",
      "source": [
        "# Executa algoritmos de construção e melhoria da solução para o PCV\n",
        "def processaDados(dist):\n",
        "  seqVert = vizinhoMasProximo(dist)\n",
        "  rota = montaListaArestas(seqVert, dist)\n",
        "  seqVertOtimizada = doisOpt(seqVert, rota, dist)\n",
        "    \n",
        "  return seqVertOtimizada"
      ],
      "metadata": {
        "id": "QHIT2yL3bhtJ"
      },
      "execution_count": 10,
      "outputs": []
    },
    {
      "cell_type": "code",
      "source": [
        "def executaBaseDeDados():\n",
        "  casosTeste = [ 'ch130', 'd1291', 'd1655', 'd2103',\n",
        "                'd18512', 'fl1577', 'pr439', 'rd400',\n",
        "                'ts225', 'u2319', 'ulysses16', 'ulysses22']\n",
        "\n",
        "  for ct in casosTeste:\n",
        "    nomeArquivo = ct\n",
        "    arquivo = open(\"sample_data/\" + nomeArquivo + \".tsp\", \"r\")\n",
        "\n",
        "    coords = leVertices(arquivo)\n",
        "    dist = montaMatrizDistancia(coords)\n",
        "\n",
        "    inicioExec = t.time()\n",
        "    seqFinal = processaDados(dist)\n",
        "    fimExec = t.time()\n",
        "\n",
        "    disTotal = distanciaTotal(montaListaArestas(seqFinal, dist))\n",
        "    salvaResultados(nomeArquivo, round((fimExec - inicioExec), 4), disTotal, seqFinal)\n",
        "\n"
      ],
      "metadata": {
        "id": "7FzRCIX3NXLt"
      },
      "execution_count": 26,
      "outputs": []
    },
    {
      "cell_type": "code",
      "source": [
        "def salvaResultados(nomeArquivo, tempoExec, disTotal, seqFinal):\n",
        "  arquivo = open(\"sample_data/\" + nomeArquivo + \"_result.txt\", \"w+\")\n",
        "  arquivo.write(\"TEMPO_EXEC \" + str(tempoExec))\n",
        "  arquivo.write(\"\\nDISTANCIA_TOTAL \" + str(disTotal))\n",
        "  arquivo.write(\"\\nSEQUENCIA_DE_VISITACAO\")\n",
        "  for i in range(len(seqFinal)):\n",
        "    arquivo.write(\"\\n\\t\" + str(i+1) + \"  \" + str(seqFinal[i]))\n",
        "  arquivo.write(\"\\nEOF\")\n",
        "  arquivo.close()"
      ],
      "metadata": {
        "id": "EwWl6SNRxw5x"
      },
      "execution_count": 14,
      "outputs": []
    },
    {
      "cell_type": "code",
      "execution_count": null,
      "metadata": {
        "id": "8ncP2jnkcrBT"
      },
      "outputs": [],
      "source": [
        "# Executa o algoritmo para o arquivo \n",
        "\n",
        "# -------------------------------------- IMPORTANTE ---------------------------------------\n",
        "# Para executar o código corretamente, por favor, insira os arquivos na pasta 'sample_data'\n",
        "# -----------------------------------------------------------------------------------------\n",
        "\n",
        "print(\"Digite o nome do arquivo de entrada .tsp:\")\n",
        "print(\"(Ex.: ts225)\")\n",
        "nomeArquivo = input()\n",
        "arquivo = open(\"sample_data/\" + nomeArquivo + \".tsp\", \"r\")\n",
        "\n",
        "coords = leVertices(arquivo)\n",
        "dist = montaMatrizDistancia(coords)\n",
        "\n",
        "inicioExec = t.time()\n",
        "seqFinal = processaDados(dist)\n",
        "fimExec = t.time()\n",
        "\n",
        "disTotal = distanciaTotal(montaListaArestas(seqFinal, dist))\n",
        "\n",
        "print(\"\\nTempo total de execução (em segundos):\", round((fimExec - inicioExec), 4))\n",
        "print(\"Distância total do percurso encontrado:\", disTotal, \"metros.\\n\")\n",
        "print(\"Sequência de pontos de coleta de lixo a serem visitados:\")\n",
        "for i in range(len(seqFinal)): print(i+1, \"º ponto:\", seqFinal[i])\n",
        "\n",
        "salvaResultados(nomeArquivo, round((fimExec - inicioExec), 4), disTotal, seqFinal)\n"
      ]
    },
    {
      "cell_type": "code",
      "source": [
        "# Descomente para executar o algoritmo para a base de dados\n",
        "# (Tempo aproximado: 20 minutos)\n",
        "\n",
        "# executaBaseDeDados()"
      ],
      "metadata": {
        "id": "JBKnBucS6Ohl"
      },
      "execution_count": 21,
      "outputs": []
    }
  ]
}